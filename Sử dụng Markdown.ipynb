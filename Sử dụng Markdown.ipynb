{
 "cells": [
  {
   "cell_type": "markdown",
   "metadata": {},
   "source": [
    "# Tổng quát cách gõ chữ lên Jupyter Lab / Jupyter Notebook\n",
    "\n",
    "Tổng hợp từ nhiều nguồn chứ ko tự viết cái này, ko nhớ hết tác giả. Nên hông mong nhận gạch đá :))\n",
    "\n",
    "Nhân tiện có bạn nào muốn trao đổi học tập, có thể connect với mình qua:\n",
    "[https://www.cafechungkhoan.com/](https://www.cafechungkhoan.com/)\n",
    "[ | Facebook](https://www.facebook.com/marketwizards1)\n",
    "[ | Github](https://github.com/cafechungkhoan)\n",
    "[ | Linkedin](https://www.linkedin.com/in/hi%E1%BA%BFu-l%C3%AA-%C4%91%E1%BA%B7ng-trung-b968014b/)"
   ]
  },
  {
   "cell_type": "raw",
   "metadata": {},
   "source": [
    "### Ví dụ sử dụng Markdown\n",
    "\n",
    "Xuống dòng cách đoạn bằng một dòng trống (tức là phải xuống dòng hai lần trong code Markdown thì văn bản mới xuống dòng một lần).\n",
    "\n",
    "Nếu chỉ xuống dòng một lần trong Markdown thì vẫn được tính là một dòng trong văn bản hiển thị.\n",
    "Các bạn cũng có thể xuống dòng nhưng không tách đoạn bằng tag br<br> trong HTML."
   ]
  },
  {
   "cell_type": "markdown",
   "metadata": {},
   "source": [
    "### Ví dụ sử dụng Markdown\n",
    "\n",
    "Xuống dòng cách đoạn bằng một dòng trống (tức là phải xuống dòng hai lần trong code Markdown thì văn bản mới xuống dòng một lần).\n",
    "\n",
    "Nếu chỉ xuống dòng một lần trong Markdown thì vẫn được tính là một dòng trong văn bản hiển thị.\n",
    "Các bạn cũng có thể xuống dòng nhưng không tách đoạn bằng tag br<br> trong HTML."
   ]
  },
  {
   "cell_type": "raw",
   "metadata": {},
   "source": [
    "- Chữ _in nghiêng_ được bỏ trong hai dấu gạch dưới (underscore)\n",
    "+ Chữ **in đậm** được bỏ trong bốn dấu sao (asterisk).\n",
    "+ Chữ ~~bị gạch bỏ~~ được kẹp giữa bốn dấu ngã (tilde).\n",
    "- Chữ **_vừa in nghiêng vừa in đậm_**  được kẹp giữa các dấu sao và dấu gạch dưới."
   ]
  },
  {
   "cell_type": "markdown",
   "metadata": {},
   "source": [
    "Tạo danh sách không thứ tự (unordered list) bằng cách thêm dấu trừ hoặc dấu cộng ở đầu mỗi dòng. Các cách format văn bản thường thấy bao gồm:\n",
    "- Chữ _in nghiêng_ được bỏ trong hai dấu gạch dưới (underscore)\n",
    "+ Chữ **in đậm** được bỏ trong bốn dấu sao (asterisk).\n",
    "+ Chữ ~~bị gạch bỏ~~ được kẹp giữa bốn dấu ngã (tilde).\n",
    "- Chữ **_vừa in nghiêng vừa in đậm_**  được kẹp giữa các dấu sao và dấu gạch dưới."
   ]
  },
  {
   "cell_type": "raw",
   "metadata": {},
   "source": [
    "Các công thức toán học có thể trình bày ở chế độ inline (không xuống dòng), ví dụ $E=mc^2$, hoặc ở chế độ display (tách dòng), ví dụ $$i\\hbar {\\frac {\\partial }{\\partial t}}|\\psi (t)\\rangle ={\\hat {H}}|\\psi (t)\\rangle$$.\n",
    "Tương tự, trong Markdown nếu bạn có nhu cầu trích dẫn một đoạn code ngắn, cũng có chế độ inline, ví dụ `inline_code`, và chế độ block code, ví dụ:\n",
    "\n",
    "``` \n",
    "This is\n",
    "a block of code\n",
    "```"
   ]
  },
  {
   "cell_type": "markdown",
   "metadata": {},
   "source": [
    "Các công thức toán học có thể trình bày ở chế độ inline (không xuống dòng), ví dụ $E=mc^2$, hoặc ở chế độ display (tách dòng), ví dụ $$i\\hbar {\\frac {\\partial }{\\partial t}}|\\psi (t)\\rangle ={\\hat {H}}|\\psi (t)\\rangle$$.\n",
    "Tương tự, trong Markdown nếu bạn có nhu cầu trích dẫn một đoạn code ngắn, cũng có chế độ inline, ví dụ `inline_code`, và chế độ block code, ví dụ:\n",
    "\n",
    "``` \n",
    "This is\n",
    "a block of code\n",
    "```"
   ]
  },
  {
   "cell_type": "raw",
   "metadata": {},
   "source": [
    "Đối với danh sách có thứ tự (ordered list), các bạn để ở đầu dòng một con số và một dấu chấm (ví dụ: 1., 2.). Không quan trọng số đó là bao nhiêu, Markdown sẽ tự đánh số lại hết. Các bạn cũng có thể làm cho các danh sách lồng ghép vào nhau như sau:\n",
    "\n",
    "1. Item\n",
    "  1. Subitem\n",
    "  2. Subitem\n",
    "7. Item\n",
    "  - Subitem\n",
    "  - Subitem\n",
    "    - Subsubitem\n",
    "    - Subsubitem"
   ]
  },
  {
   "cell_type": "markdown",
   "metadata": {},
   "source": [
    "Đối với danh sách có thứ tự (ordered list), các bạn để ở đầu dòng một con số và một dấu chấm (ví dụ: 1., 2.). Không quan trọng số đó là bao nhiêu, Markdown sẽ tự đánh số lại hết. Các bạn cũng có thể làm cho các danh sách lồng ghép vào nhau như sau:\n",
    "\n",
    "1. Item\n",
    "  1. Subitem\n",
    "  2. Subitem\n",
    "7. Item\n",
    "  - Subitem\n",
    "  - Subitem\n",
    "    - Subsubitem\n",
    "    - Subsubitem"
   ]
  },
  {
   "cell_type": "markdown",
   "metadata": {},
   "source": [
    "# Hướng dẫn gõ các loại công thức toán trong Jupyter Lab"
   ]
  },
  {
   "cell_type": "markdown",
   "metadata": {},
   "source": [
    "#### Các chữ cái Hy Lạp hay dùng trong công thức toán (Greek letters)"
   ]
  },
  {
   "cell_type": "raw",
   "metadata": {},
   "source": [
    "$$ \\alpha,  \\beta, \\gamma, \\Gamma, \\pi, \\Pi, \\phi, \\varphi, \\mu, \\Phi $$"
   ]
  },
  {
   "cell_type": "markdown",
   "metadata": {},
   "source": [
    "$$ \\alpha,  \\beta, \\gamma, \\Gamma, \\pi, \\Pi, \\phi, \\varphi, \\mu, \\Phi $$"
   ]
  },
  {
   "cell_type": "markdown",
   "metadata": {},
   "source": [
    "#### Dấu mũ và chỉ số (superscripts and subscripts)"
   ]
  },
  {
   "cell_type": "raw",
   "metadata": {},
   "source": [
    "$$ \\alpha_i ^ {22}$$\n",
    "$$ f_{n+1} = (n+1)^{11} + f_{n} $$"
   ]
  },
  {
   "cell_type": "markdown",
   "metadata": {},
   "source": [
    "$$ \\alpha_i ^ {22} $$\n",
    "$$ f_{n+1} = (n+1)^{11} + f_{n} $$"
   ]
  },
  {
   "cell_type": "markdown",
   "metadata": {},
   "source": [
    "#### Phân số (fraction)"
   ]
  },
  {
   "cell_type": "raw",
   "metadata": {},
   "source": [
    "$$ \\frac{numerator}{denominator} + \\frac{\\alpha_i}{\\beta_j} $$"
   ]
  },
  {
   "cell_type": "markdown",
   "metadata": {},
   "source": [
    "$$ \\frac{numerator}{denominator} + \\frac{\\alpha_i}{\\beta_j} $$"
   ]
  },
  {
   "cell_type": "markdown",
   "metadata": {},
   "source": [
    "#### Công thức tính cost function trong Neural network"
   ]
  },
  {
   "cell_type": "raw",
   "metadata": {},
   "source": [
    "$$ J(W, b) = [\\frac{1}{m} \\sum_{i=1}^{m} J(W, b; x^{(i)}, y^{(i)} ] + \\frac{\\lambda}{2} \\sum_{l=1}^{n_l-1}  \\sum_{i=1}^{s_l}  \\sum_{j=1}^{s_{l+1}} (W_{ji} ^{(l)})^2 $$"
   ]
  },
  {
   "cell_type": "markdown",
   "metadata": {},
   "source": [
    "$$ J(W, b) = [\\frac{1}{m} \\sum_{i=1}^{m} J(W, b; x^{(i)}, y^{(i)} ] + \\frac{\\lambda}{2} \\sum_{l=1}^{n_l-1}  \\sum_{i=1}^{s_l}  \\sum_{j=1}^{s_{l+1}} (W_{ji} ^{(l)})^2 $$"
   ]
  },
  {
   "cell_type": "markdown",
   "metadata": {},
   "source": [
    "#### Ma trận (Matrix)"
   ]
  },
  {
   "cell_type": "raw",
   "metadata": {},
   "source": [
    "$$ A_{m,n} = \n",
    "\\begin{pmatrix}\n",
    "a_{1,1} & a_{1,2} & \\cdots & a_{1,n} \\\\\n",
    "a_{2,1} & a_{2,2} & \\cdots & a_{2,n} \\\\\n",
    "\\vdots  & \\vdots  & \\ddots & \\vdots  \\\\\n",
    "a_{m,1} & a_{m,2} & \\cdots & a_{m,n} \n",
    "\\end{pmatrix} $$"
   ]
  },
  {
   "cell_type": "markdown",
   "metadata": {},
   "source": [
    "$$ A_{m,n} = \n",
    "\\begin{pmatrix}\n",
    "a_{1,1} & a_{1,2} & \\cdots & a_{1,n} \\\\\n",
    "a_{2,1} & a_{2,2} & \\cdots & a_{2,n} \\\\\n",
    "\\vdots  & \\vdots  & \\ddots & \\vdots  \\\\\n",
    "a_{m,1} & a_{m,2} & \\cdots & a_{m,n} \n",
    "\\end{pmatrix} $$"
   ]
  },
  {
   "cell_type": "markdown",
   "metadata": {},
   "source": [
    "# Tra cứu cách gõ các công thức toán học tổng quát"
   ]
  },
  {
   "cell_type": "markdown",
   "metadata": {},
   "source": [
    "[LaTeX/Mathematics](https://en.wikibooks.org/wiki/LaTeX/Mathematics)"
   ]
  },
  {
   "cell_type": "markdown",
   "metadata": {},
   "source": [
    "[LaTeX – Use of math symbols and equations](https://kogler.wordpress.com/2008/03/21/latex-use-of-math-symbols-formulas-and-equations/)"
   ]
  }
 ],
 "metadata": {
  "kernelspec": {
   "display_name": "Python 3",
   "language": "python",
   "name": "python3"
  },
  "language_info": {
   "codemirror_mode": {
    "name": "ipython",
    "version": 3
   },
   "file_extension": ".py",
   "mimetype": "text/x-python",
   "name": "python",
   "nbconvert_exporter": "python",
   "pygments_lexer": "ipython3",
   "version": "3.7.4"
  }
 },
 "nbformat": 4,
 "nbformat_minor": 4
}
