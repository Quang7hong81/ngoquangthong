{
 "cells": [
  {
   "cell_type": "code",
   "execution_count": 1,
   "metadata": {},
   "outputs": [
    {
     "name": "stdout",
     "output_type": "stream",
     "text": [
      "27.563\n",
      "p-values 1.9303963395847026e-57\n",
      " we are rejecting null hypothesis\n"
     ]
    }
   ],
   "source": [
    "# KIỂM ĐỊNH PHÂN PHỐI STUDENT (T-TEST) BẰNG P VALUE NHẰM XÁC NHẬN HAY LOẠI BỎ 1 GIẢ THUYẾT\n",
    "\n",
    "ages=[]\n",
    "import random\n",
    "for i in range(1000):\n",
    "    x = random.randint(20,35)\n",
    "    ages.append(x)\n",
    "\n",
    "from scipy.stats import ttest_1samp\n",
    "import numpy as np\n",
    "ages_mean = np.mean(ages)\n",
    "print(ages_mean)\n",
    "tset, pval = ttest_1samp(ages, 30)\n",
    "print('p-values',pval)\n",
    "if pval < 0.05:\n",
    "    print(\" we are rejecting null hypothesis\")\n",
    "else:\n",
    "    print(\"we are accepting null hypothesis\")"
   ]
  },
  {
   "cell_type": "code",
   "execution_count": 7,
   "metadata": {},
   "outputs": [
    {
     "name": "stdout",
     "output_type": "stream",
     "text": [
      "giathuyet1 mean value: 27.579\n",
      "week2 mean value: 27.581\n",
      "giathuyet1 std value: 4.6262035190856015\n",
      "week2 std value: 4.674980106909547\n",
      "p-value 0.9923323447500896\n",
      "we accept null hypothesis\n"
     ]
    }
   ],
   "source": [
    "# KIỂM ĐỊNH PHÂN PHỐI STUDENT (T-TEST) 2 GIẢ THUYẾT THỐNG KÊ CÓ GIỐNG NHAU HAY KHÔNG\n",
    "\n",
    "giathuyet1=[]\n",
    "import random\n",
    "for i in range(1000):\n",
    "    x = random.randint(20,35)\n",
    "    giathuyet1.append(x)\n",
    "    \n",
    "giathuyet2=[]\n",
    "import random\n",
    "for i in range(1000):\n",
    "    x = random.randint(20,35)\n",
    "    giathuyet2.append(x)\n",
    "    \n",
    "from scipy.stats import ttest_ind\n",
    "import numpy as np\n",
    "# ------------- mức ý nghĩa -------------------\n",
    "giathuyet1_mean = np.mean(giathuyet1)\n",
    "giathuyet2_mean = np.mean(giathuyet2)\n",
    "print(\"giathuyet1 mean value:\",giathuyet1_mean)\n",
    "print(\"giathuyet2 mean value:\",giathuyet2_mean)\n",
    "# ------------- độ lệch chuẩn -----------------\n",
    "giathuyet1_std = np.std(giathuyet1)\n",
    "giathuyet2_std = np.std(giathuyet2)\n",
    "print(\"giathuyet1 std value:\",giathuyet1_std)\n",
    "print(\"giathuyet2 std value:\",giathuyet2_std)\n",
    "ttest,pval = ttest_ind(giathuyet1,giathuyet2)\n",
    "print(\"p-value\",pval)\n",
    "if pval <0.05:\n",
    "  print(\"we reject null hypothesis\")\n",
    "else:\n",
    "  print(\"we accept null hypothesis\")"
   ]
  },
  {
   "cell_type": "code",
   "execution_count": 8,
   "metadata": {},
   "outputs": [
    {
     "name": "stdout",
     "output_type": "stream",
     "text": [
      "giá trị p-value: 4.652223116783192e-05\n",
      "P-value<0.05, reject null hypothesis\n",
      "bp_before mean value: 128.52\n",
      "bp_after mean value: 132.815\n",
      "bp_before std value: 23.22928324335471\n",
      "bp_after std value: 25.58399450828584\n"
     ]
    }
   ],
   "source": [
    "# KIỂM ĐỊNH T TEST TRÊN CÙNG 1 MẪU TRƯỚC VÀ SAU KHI CÓ YẾU TỐ TÁC ĐỘNG\n",
    "# với H0 là không có sụ khác biệt, h1 là có sự khác biệt\n",
    "\n",
    "import pandas as pd\n",
    "from scipy import stats\n",
    "df = pd.read_csv(r\"C:\\PYTHON LEARNING\\DATA\\blood_pressure.csv\")\n",
    "df[['bp_before','bp_after']].describe()\n",
    "ttest,pval = stats.ttest_rel(df['bp_before'], df['bp_after'])\n",
    "print('giá trị p-value:',pval)\n",
    "if pval<0.05:\n",
    "    print(\"P-value<0.05, reject null hypothesis\")\n",
    "else:\n",
    "    print(\"P-value>0.05, accept null hypothesis\")\n",
    "import numpy as np\n",
    "giathuyet1_mean = np.mean(df['bp_before'])\n",
    "giathuyet2_mean = np.mean(df['bp_after'])\n",
    "print(\"bp_before mean value:\",giathuyet1_mean)\n",
    "print(\"bp_after mean value:\",giathuyet2_mean)\n",
    "giathuyet1_std = np.std(df['bp_before'])\n",
    "giathuyet2_std = np.std(df['bp_after'])\n",
    "print(\"bp_before std value:\",giathuyet1_std)\n",
    "print(\"bp_after std value:\",giathuyet2_std)"
   ]
  },
  {
   "cell_type": "code",
   "execution_count": 4,
   "metadata": {},
   "outputs": [
    {
     "name": "stdout",
     "output_type": "stream",
     "text": [
      "1.5992359245444565e-62\n",
      "reject null hypothesis\n"
     ]
    }
   ],
   "source": [
    "# KIỂM ĐỊNH Z - TEST\n",
    "# H0 : mean of two group is 0\n",
    "# H1 : mean of two group is not 0\n",
    "import pandas as pd\n",
    "from scipy import stats\n",
    "from statsmodels.stats import weightstats as stests\n",
    "ztest ,pval = stests.ztest(df['bp_before'], x2=None, value=156)\n",
    "print(float(pval))\n",
    "if pval<0.05:\n",
    "    print(\"reject null hypothesis\")\n",
    "else:\n",
    "    print(\"accept null hypothesis\")"
   ]
  },
  {
   "cell_type": "code",
   "execution_count": 5,
   "metadata": {},
   "outputs": [
    {
     "name": "stdout",
     "output_type": "stream",
     "text": [
      "p-value for significance is:  0.0159099583256229\n",
      "reject null hypothesis\n"
     ]
    }
   ],
   "source": [
    "# One Way F-test(Anova) cho biết hai hoặc nhiều nhóm giống nhau hay không\n",
    "# Ví dụ: có 3 loại thực vật khác nhau và trọng lượng của chúng và cần kiểm tra xem cả 3 nhóm có giống nhau hay không\n",
    "df_anova = pd.read_csv(r'C:\\PYTHON LEARNING\\DATA\\PlantGrowth.csv')\n",
    "df_anova = df_anova[['weight','group']]\n",
    "grps = pd.unique(df_anova.group.values)\n",
    "d_data = {grp:df_anova['weight'][df_anova.group == grp] for grp in grps}\n",
    " \n",
    "F, p = stats.f_oneway(d_data['ctrl'], d_data['trt1'], d_data['trt2'])\n",
    "print(\"p-value for significance is: \", p)\n",
    "if p<0.05:\n",
    "    print(\"reject null hypothesis\")\n",
    "else:\n",
    "    print(\"accept null hypothesis\")"
   ]
  },
  {
   "cell_type": "code",
   "execution_count": 6,
   "metadata": {},
   "outputs": [
    {
     "name": "stdout",
     "output_type": "stream",
     "text": [
      "Overall model F( 3, 16) =  4.112, p =  0.0243\n"
     ]
    },
    {
     "data": {
      "text/html": [
       "<div>\n",
       "<style scoped>\n",
       "    .dataframe tbody tr th:only-of-type {\n",
       "        vertical-align: middle;\n",
       "    }\n",
       "\n",
       "    .dataframe tbody tr th {\n",
       "        vertical-align: top;\n",
       "    }\n",
       "\n",
       "    .dataframe thead th {\n",
       "        text-align: right;\n",
       "    }\n",
       "</style>\n",
       "<table border=\"1\" class=\"dataframe\">\n",
       "  <thead>\n",
       "    <tr style=\"text-align: right;\">\n",
       "      <th></th>\n",
       "      <th>sum_sq</th>\n",
       "      <th>df</th>\n",
       "      <th>F</th>\n",
       "      <th>PR(&gt;F)</th>\n",
       "    </tr>\n",
       "  </thead>\n",
       "  <tbody>\n",
       "    <tr>\n",
       "      <th>C(Fert)</th>\n",
       "      <td>69.192</td>\n",
       "      <td>1.0</td>\n",
       "      <td>5.766000</td>\n",
       "      <td>0.028847</td>\n",
       "    </tr>\n",
       "    <tr>\n",
       "      <th>C(Water)</th>\n",
       "      <td>63.368</td>\n",
       "      <td>1.0</td>\n",
       "      <td>5.280667</td>\n",
       "      <td>0.035386</td>\n",
       "    </tr>\n",
       "    <tr>\n",
       "      <th>C(Fert):C(Water)</th>\n",
       "      <td>15.488</td>\n",
       "      <td>1.0</td>\n",
       "      <td>1.290667</td>\n",
       "      <td>0.272656</td>\n",
       "    </tr>\n",
       "    <tr>\n",
       "      <th>Residual</th>\n",
       "      <td>192.000</td>\n",
       "      <td>16.0</td>\n",
       "      <td>NaN</td>\n",
       "      <td>NaN</td>\n",
       "    </tr>\n",
       "  </tbody>\n",
       "</table>\n",
       "</div>"
      ],
      "text/plain": [
       "                   sum_sq    df         F    PR(>F)\n",
       "C(Fert)            69.192   1.0  5.766000  0.028847\n",
       "C(Water)           63.368   1.0  5.280667  0.035386\n",
       "C(Fert):C(Water)   15.488   1.0  1.290667  0.272656\n",
       "Residual          192.000  16.0       NaN       NaN"
      ]
     },
     "execution_count": 6,
     "metadata": {},
     "output_type": "execute_result"
    }
   ],
   "source": [
    "# Kiểm tra F hai chiều: - Kiểm tra F hai chiều là phần mở rộng của kiểm tra f 1 chiều, \n",
    "# nó được sử dụng khi có 2 biến độc lập và nhiều hơn 2 nhóm.\n",
    "# ví dụ: so sánh năng suất cây trồng trung bình chung, và năng suất cây trồng trung bình theo từng yếu tố\n",
    "\n",
    "import statsmodels.api as sm\n",
    "from statsmodels.formula.api import ols\n",
    "df_anova2 = pd.read_csv(\"https://raw.githubusercontent.com/Opensourcefordatascience/Data-sets/master/crop_yield.csv\")\n",
    "model = ols('Yield ~ C(Fert)*C(Water)', df_anova2).fit()\n",
    "print(f\"Overall model F({model.df_model: .0f},{model.df_resid: .0f}) = {model.fvalue: .3f}, p = {model.f_pvalue: .4f}\")\n",
    "res = sm.stats.anova_lm(model, typ= 2)\n",
    "res"
   ]
  },
  {
   "cell_type": "code",
   "execution_count": null,
   "metadata": {},
   "outputs": [],
   "source": []
  }
 ],
 "metadata": {
  "kernelspec": {
   "display_name": "Python 3",
   "language": "python",
   "name": "python3"
  },
  "language_info": {
   "codemirror_mode": {
    "name": "ipython",
    "version": 3
   },
   "file_extension": ".py",
   "mimetype": "text/x-python",
   "name": "python",
   "nbconvert_exporter": "python",
   "pygments_lexer": "ipython3",
   "version": "3.7.4"
  }
 },
 "nbformat": 4,
 "nbformat_minor": 4
}
